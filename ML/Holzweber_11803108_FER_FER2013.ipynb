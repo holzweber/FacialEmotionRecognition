{
 "cells": [
  {
   "cell_type": "markdown",
   "metadata": {
    "id": "2Fz4nScbBqib"
   },
   "source": [
    "# Facial Expression Recognition - Using FER2013 Database\n",
    "**Author**: Christopher Holzweber\n",
    "\n",
    "**Institution**: Johannes Kepler Universität Linz - Institute of Computational Perception\n",
    "\n",
    "**Intention**: Bachelorthesis - Prototype for FER\n",
    "\n",
    "**Description**: \n",
    "In this Notebook File a CNN Model is trained using the FER2013 Dataset. Here two strategies are used:\n",
    "\n",
    "# 1: Training Model from Scratch with original Data, augmentation + histogram equalization.\n",
    "\n",
    "This CNN Architekture is based on the paper\n",
    "\n",
    "Facial Emotion Recognition Using Deep Convolutional Neural Network by \n",
    "\n",
    "Pranav E.\n",
    "School of Engineering\n",
    "Cochin University of Science\n",
    "and Technology\n",
    "Kochi, India\n",
    "\n",
    "Suraj Kamal\n",
    "Department of Electronics\n",
    "Cochin University of Science and\n",
    "Technology\n",
    "Kochi, India\n",
    "\n",
    "Satheesh Chandran C.\n",
    "Department of Electronics\n",
    "Cochin University of Science and\n",
    "Technology\n",
    "Kochi, India\n",
    "\n",
    "Supriya M.H.\n",
    "Department of Electronics\n",
    "Cochin University of Science\n",
    "and Technology\n",
    "Kochi, India\n",
    "\n",
    "Latest Results: loss: 0.9693 - accuracy: 0.6378 - val_loss: 1.2040 - val_accuracy: 0.5613\n",
    "\n",
    "You can see, that the model is slightly overfitting for the untouched data\n",
    "\n",
    "\n",
    "# 2: Training Model from Scratch with original Data + Augmented Data and histogram equalization. \n",
    "\n",
    "This model is a much deeper then the first approach. It is based on the paper\n",
    "\n",
    "*Facial Expression Recognition using Convolutional Neural Networks: State of the Art \n",
    "\n",
    "by Christopher Pramerdorfer, Martin Kampel\n",
    "Computer Vision Lab, TU Wien, Vienna, Austria*\n",
    "\n",
    "Therefore this Model will train much longer, since there is more data to process.\n",
    "\n",
    "latest results on accuracy: accuracy: 0.6529 - val_loss: 1.1525 - val_accuracy: 0.5705\n",
    "\n",
    "**Required Installations**:\n",
    "\n",
    "Tensorflow: pip install tensorflow\n",
    "\n",
    "Numpy: pip install numpy\n",
    "\n",
    "OpenCV: pip install opencv-python\n",
    "\n",
    "Matplotlib: python -m pip install -U matplotlib\n",
    "\n",
    "Pandas: pip install pandas\n",
    "\n",
    "Seaborn: pip install seaborn\n"
   ]
  },
  {
   "cell_type": "code",
   "execution_count": 3,
   "metadata": {
    "id": "WxrBcGofAMWv"
   },
   "outputs": [],
   "source": [
    "# %tensorflow_version 2.x  # making sure using version 2 of tensorflow\n",
    "import tensorflow as tf  # import tensorflow module\n",
    "import numpy as np # standard lib. for calculations\n",
    "import cv2  # library for imagehandling \n",
    "import matplotlib.pyplot as plt  # plotting images\n",
    "import os  # for file handling and loading\n",
    "import pandas as pd\n",
    "import random # for datashuffling\n",
    "from sklearn.metrics import confusion_matrix, plot_roc_curve # for evaluationg the CNN Models\n",
    "import seaborn as sn # pi install seaborn - used for plotting confusion matrix"
   ]
  },
  {
   "cell_type": "markdown",
   "metadata": {
    "id": "xox5x2UMGJZd"
   },
   "source": [
    "# Dataset\n",
    "For this model the dataset FER2013 is used\n",
    "\n",
    "https://www.kaggle.com/msambare/fer2013\n",
    "\n",
    "The data is already seperated into a test and a train dataset.\n",
    "\n",
    "The FER2013 set classifies facial emotions into 7 Categories:\n",
    "\n",
    "(0=Angry, 1=Disgust, 2=Fear, 3=Happy, 4=Sad, 5=Surprise, 6=Neutral)"
   ]
  },
  {
   "cell_type": "code",
   "execution_count": null,
   "metadata": {
    "id": "lsbT1TXhvZyV"
   },
   "outputs": [],
   "source": [
    " # !unzip FER2013 # if training in google colab - upload zip file of FER2013 and unzip"
   ]
  },
  {
   "cell_type": "markdown",
   "metadata": {
    "id": "f51JDh_HfKoo"
   },
   "source": [
    "**Define Classes and Data/Label Arrays**"
   ]
  },
  {
   "cell_type": "code",
   "execution_count": 14,
   "metadata": {
    "id": "R23zggrGQO_l"
   },
   "outputs": [],
   "source": [
    "emotion_classes = ['angry', 'disgust', 'fear', 'happy', 'neutral', 'sad', 'surprise']\n",
    "IMG_SIZE = 48 #set pixel size of image, images are used to be IMG_SIZExIMG_SIZE\n",
    "imagetype = 0 # 0 for grayscale, 1 for rgb\n",
    "train_data = [] # picture data for model training\n",
    "train_label = [] # labels of training data\n",
    "test_data = [] # picture data for model testing\n",
    "test_label = []  # labels of testing data"
   ]
  },
  {
   "cell_type": "markdown",
   "metadata": {
    "id": "OKmgjyDunWYn"
   },
   "source": [
    "**Read all  Images from subfolders and return data  + label tuples**\n",
    "\n",
    "The readData Method reads all Files from a given directory, consisting of Labeled Subfoldes. e.g. FER2013/0/xyz.png"
   ]
  },
  {
   "cell_type": "code",
   "execution_count": 15,
   "metadata": {
    "id": "Qh41xS6xfvZz"
   },
   "outputs": [],
   "source": [
    "def readData(directory,nrsubfolders):\n",
    "    dataframe = []\n",
    "    traindir = directory\n",
    "    for cs in range(0, nrsubfolders):\n",
    "        path = os.path.join(traindir,str(cs))  # Iterate over every subfolder\n",
    "        for img in os.listdir(path):\n",
    "            tempImg = cv2.imread(os.path.join(path,img),imagetype) #readImg\n",
    "            tempImg = cv2.equalizeHist(tempImg) #histogram equalization\n",
    "            tempImg = cv2.resize(tempImg, (IMG_SIZE, IMG_SIZE)) #resize to IMG_SIZE\n",
    "            dataframe.append([tempImg,cs]) #append tuple to dataframe\n",
    "    return dataframe"
   ]
  },
  {
   "cell_type": "markdown",
   "metadata": {
    "id": "Oda1X5WrqzUA"
   },
   "source": [
    "**Load all training and test images - shuffle them and normalize them**"
   ]
  },
  {
   "cell_type": "code",
   "execution_count": 16,
   "metadata": {
    "id": "r7Y4O92nqyyv"
   },
   "outputs": [],
   "source": [
    "tempdata = readData(\"./FER2013/train/\",len(emotion_classes)) # read training data\n",
    "random.shuffle(tempdata) #shuffle data\n",
    "#store data in according arrays, seperating the created tuples \n",
    "for feat,label in tempdata:\n",
    "    train_data.append(feat)\n",
    "    train_label.append(label)\n",
    "tempdata = readData(\"./FER2013/test/\",len(emotion_classes)) # read testing data\n",
    "random.shuffle(tempdata) #shuffle data\n",
    "#store data in according arrays\n",
    "for feat,label in tempdata:\n",
    "    test_data.append(feat)\n",
    "    test_label.append(label)\n",
    "\n",
    "if imagetype==0: #grayscale mode\n",
    "    # create arrays out of lists\n",
    "    train_data = np.array(train_data).reshape(-1,IMG_SIZE,IMG_SIZE,1)\n",
    "    train_label = np.array(train_label)\n",
    "    test_data = np.array(test_data).reshape(-1,IMG_SIZE,IMG_SIZE,1)\n",
    "    test_label = np.array(test_label)\n",
    "else: #rgb mode\n",
    "    # create arrays out of lists\n",
    "    train_data = np.array(train_data)\n",
    "    train_label = np.array(train_label)\n",
    "    test_data = np.array(test_data)\n",
    "    test_label = np.array(test_label)\n"
   ]
  },
  {
   "cell_type": "code",
   "execution_count": 17,
   "metadata": {
    "id": "rJPPDjpysX40"
   },
   "outputs": [],
   "source": [
    "# normalize datavalues for machinelearning - best practice that values are between [0, 1]\n",
    "z = np.array(255., dtype=np.float64) #if not enough RAM is available, use float32\n",
    "train_data, test_data = train_data / z, test_data / z"
   ]
  },
  {
   "cell_type": "markdown",
   "metadata": {
    "id": "wOCz-9B9ocHi"
   },
   "source": [
    "# SetUp CNN Architecture"
   ]
  },
  {
   "cell_type": "code",
   "execution_count": 4,
   "metadata": {
    "id": "cBppKrQkoqRd"
   },
   "outputs": [],
   "source": [
    "from tensorflow.keras import layers, models  # use models and layers given by tensorflow framework"
   ]
  },
  {
   "cell_type": "code",
   "execution_count": 8,
   "metadata": {
    "id": "HzSBEd0julL9"
   },
   "outputs": [],
   "source": [
    "# Model Skeleton reused form the Paper Facial Emotion Recognition Using Deep Convolutional Neural Network\n",
    "if imagetype==0: #set dimension of input layer\n",
    "    dim = 1 #grayscale channels\n",
    "else:\n",
    "    dim = 3 #rgb channels\n",
    "initializer = tf.keras.initializers.HeNormal()\n",
    "model2020 = models.Sequential()\n",
    "#\n",
    "model2020.add(tf.keras.layers.experimental.preprocessing.RandomFlip(mode=\"horizontal\"))\n",
    "model2020.add(tf.keras.layers.experimental.preprocessing.RandomCrop(48,48))\n",
    "model2020.add(layers.Conv2D(32, (3,3), activation='relu', input_shape=(IMG_SIZE,IMG_SIZE, dim),padding = 'same', kernel_initializer=initializer))\n",
    "model2020.add(layers.MaxPooling2D((2, 2)))\n",
    "model2020.add(layers.Dropout(.01))\n",
    "model2020.add(layers.Conv2D(64, (3,3), activation='relu',padding = 'same', kernel_initializer=initializer))\n",
    "model2020.add(layers.MaxPooling2D((2, 2)))\n",
    "model2020.add(layers.Dropout(.01))\n",
    "model2020.add(layers.Conv2D(128, (3, 3), activation='relu',padding = 'same', kernel_initializer=initializer))\n",
    "model2020.add(layers.MaxPooling2D((2, 2)))\n",
    "model2020.add(layers.Dropout(.01))\n",
    "model2020.add(layers.Flatten())\n",
    "model2020.add(layers.Dense(256, activation='relu'))\n",
    "model2020.add(layers.Dense(128, activation='relu')) #added additional\n",
    "model2020.add(layers.Dense(7, activation = 'softmax'))\n",
    "#model2020.summary()"
   ]
  },
  {
   "cell_type": "markdown",
   "metadata": {
    "id": "95yq8-dIqSk1"
   },
   "source": [
    "# *Training Area*"
   ]
  },
  {
   "cell_type": "code",
   "execution_count": 9,
   "metadata": {
    "colab": {
     "base_uri": "https://localhost:8080/"
    },
    "id": "L4IVi-lnulL-",
    "outputId": "427c1426-0cce-475c-ef41-27da3a09d756",
    "scrolled": true
   },
   "outputs": [
    {
     "name": "stdout",
     "output_type": "stream",
     "text": [
      "Epoch 1/6\n",
      "898/898 [==============================] - 39s 7ms/step - loss: 1.7557 - accuracy: 0.3219 - val_loss: 1.4243 - val_accuracy: 0.4404\n",
      "Epoch 2/6\n",
      "898/898 [==============================] - 5s 6ms/step - loss: 1.3659 - accuracy: 0.4747 - val_loss: 1.2679 - val_accuracy: 0.5085\n",
      "Epoch 3/6\n",
      "898/898 [==============================] - 6s 6ms/step - loss: 1.2292 - accuracy: 0.5285 - val_loss: 1.2182 - val_accuracy: 0.5386\n",
      "Epoch 4/6\n",
      "898/898 [==============================] - 5s 6ms/step - loss: 1.1396 - accuracy: 0.5651 - val_loss: 1.2064 - val_accuracy: 0.5385\n",
      "Epoch 5/6\n",
      "898/898 [==============================] - 6s 6ms/step - loss: 1.0697 - accuracy: 0.5969 - val_loss: 1.1696 - val_accuracy: 0.5570\n",
      "Epoch 6/6\n",
      "898/898 [==============================] - 5s 6ms/step - loss: 0.9966 - accuracy: 0.6229 - val_loss: 1.1700 - val_accuracy: 0.5692\n"
     ]
    }
   ],
   "source": [
    "model2020.compile(optimizer='adam',\n",
    "              loss=tf.keras.losses.SparseCategoricalCrossentropy(from_logits=True),\n",
    "              metrics=['accuracy'])\n",
    "\n",
    "history = model2020.fit(train_data, train_label, epochs=6, \n",
    "                    validation_data=(test_data, test_label))"
   ]
  },
  {
   "cell_type": "code",
   "execution_count": 10,
   "metadata": {
    "id": "BWBL7xwMulL-"
   },
   "outputs": [],
   "source": [
    "model2020.save('./SavedModels/model2020_fer2013_p48_dim1.h5')  # Save Model in Modeldirectory"
   ]
  },
  {
   "cell_type": "markdown",
   "metadata": {
    "id": "dkUMp7tUulL-"
   },
   "source": [
    "# *Testing and Validation Area of Model2020*"
   ]
  },
  {
   "cell_type": "code",
   "execution_count": 11,
   "metadata": {
    "id": "hBDiCtpesJJp"
   },
   "outputs": [],
   "source": [
    "acc = history.history['accuracy']"
   ]
  },
  {
   "cell_type": "code",
   "execution_count": 12,
   "metadata": {
    "colab": {
     "base_uri": "https://localhost:8080/"
    },
    "id": "ePhK8Z85opJn",
    "outputId": "15842c1c-bda4-443e-ab9b-3ff5ebc658f6"
   },
   "outputs": [
    {
     "name": "stdout",
     "output_type": "stream",
     "text": [
      "225/225 - 1s - loss: 1.1700 - accuracy: 0.5692\n"
     ]
    }
   ],
   "source": [
    "test_loss, test_acc = model2020.evaluate(test_data, test_label, verbose=2)"
   ]
  },
  {
   "cell_type": "markdown",
   "metadata": {
    "id": "VCURH6uSOo1b"
   },
   "source": [
    "## Create Confusion Matrix of trained model"
   ]
  },
  {
   "cell_type": "code",
   "execution_count": 8,
   "metadata": {
    "id": "pT_yOQtgulMA"
   },
   "outputs": [],
   "source": [
    "def getConfusionMatrix(model):\n",
    "    predicted = model.predict(test_data) #prediction vektor of the loaded test_data\n",
    "    y_pred = []\n",
    "    y_true = []\n",
    "    for i in range(0, len(test_label)):\n",
    "        y_true.append(emotion_classes[test_label[i]]) #create a vektor with emotion_labels\n",
    "        y_pred.append(emotion_classes[np.argmax(predicted[i,:])])\n",
    "    y_pred = np.array(y_pred) # cast both vektors to np. arrays as needed by the confusion_matrix function\n",
    "    y_true = np.array(y_true)\n",
    "    return confusion_matrix(y_true, y_pred, labels = emotion_classes, normalize='true')"
   ]
  },
  {
   "cell_type": "code",
   "execution_count": 7,
   "metadata": {
    "id": "_gSqmbejulMB"
   },
   "outputs": [],
   "source": [
    "def printConfusionMatrix(model):\n",
    "    conmatrix = getConfusionMatrix(model)\n",
    "    df_cm = pd.DataFrame(conmatrix, index = [i for i in emotion_classes],\n",
    "                  columns = [i for i in emotion_classes])\n",
    "\n",
    "    plt.figure(figsize = (10,7))\n",
    "    sn.heatmap(df_cm, annot=True, cmap=\"YlGnBu\")\n",
    "    plt.title('Confusion Matrix of CNN Model')\n",
    "    # Set x-axis label\n",
    "    plt.xlabel('Predicted')\n",
    "    # Set y-axis label\n",
    "    plt.ylabel('Actual')"
   ]
  },
  {
   "cell_type": "code",
   "execution_count": 9,
   "metadata": {},
   "outputs": [],
   "source": [
    "model2020 = tf.keras.models.load_model('./SavedModels/model2020_fer2013_p48_dim1.h5')"
   ]
  },
  {
   "cell_type": "code",
   "execution_count": 47,
   "metadata": {
    "colab": {
     "base_uri": "https://localhost:8080/",
     "height": 458
    },
    "id": "On5Ct5DiulMB",
    "outputId": "e017a5ef-35a0-4ec0-b2da-9b07604feec1"
   },
   "outputs": [
    {
     "data": {
      "image/png": "[encoded data removed]",
      "text/plain": [
       "<Figure size 720x504 with 2 Axes>"
      ]
     },
     "metadata": {
      "needs_background": "light"
     },
     "output_type": "display_data"
    }
   ],
   "source": [
    "printConfusionMatrix(model2020)"
   ]
  },
  {
   "cell_type": "markdown",
   "metadata": {
    "id": "VVhojUovulMF"
   },
   "source": [
    "## VGG Architekture Based"
   ]
  },
  {
   "cell_type": "markdown",
   "metadata": {
    "id": "nxXFTwf0ulMG"
   },
   "source": [
    "**CNN Model**"
   ]
  },
  {
   "cell_type": "code",
   "execution_count": 18,
   "metadata": {
    "id": "uPQk9_4dulMG"
   },
   "outputs": [],
   "source": [
    "activation = 'relu'\n",
    "initializer = tf.keras.initializers.HeNormal()\n",
    "# Model Skeleton reused form the Paper Facial Expression Recognition using Convolutional Neural Networks: State of the Art\n",
    "model_vgg = models.Sequential()\n",
    "#\n",
    "model_vgg.add(tf.keras.layers.experimental.preprocessing.RandomFlip(mode=\"horizontal\"))\n",
    "model_vgg.add(tf.keras.layers.experimental.preprocessing.RandomCrop(48,48))\n",
    "#Block 1\n",
    "model_vgg.add(layers.Conv2D(64, (3,3), activation=activation, input_shape=(IMG_SIZE,IMG_SIZE, 1),padding = 'same', kernel_initializer=initializer))\n",
    "model_vgg.add(layers.BatchNormalization())\n",
    "model_vgg.add(layers.Conv2D(64, (3,3), activation=activation,padding = 'same', kernel_initializer=initializer))\n",
    "model_vgg.add(layers.BatchNormalization())\n",
    "model_vgg.add(layers.MaxPooling2D((2, 2)))\n",
    "#Block 2\n",
    "model_vgg.add(layers.Conv2D(128, (3,3), activation=activation,padding = 'same', kernel_initializer=initializer))\n",
    "model_vgg.add(layers.BatchNormalization())\n",
    "model_vgg.add(layers.Conv2D(128, (3,3), activation=activation))\n",
    "model_vgg.add(layers.BatchNormalization())\n",
    "model_vgg.add(layers.MaxPooling2D((2, 2)))\n",
    "#Block 3\n",
    "model_vgg.add(layers.Conv2D(256, (3, 3), activation=activation,padding = 'same', kernel_initializer=initializer))\n",
    "model_vgg.add(layers.BatchNormalization())\n",
    "model_vgg.add(layers.Conv2D(256, (3, 3), activation=activation,padding = 'same', kernel_initializer=initializer))\n",
    "model_vgg.add(layers.BatchNormalization())\n",
    "model_vgg.add(layers.MaxPooling2D((2, 2)))\n",
    "#Block 4\n",
    "model_vgg.add(layers.Conv2D(512, (3, 3), activation=activation,padding = 'same', kernel_initializer=initializer))\n",
    "model_vgg.add(layers.BatchNormalization())\n",
    "model_vgg.add(layers.Conv2D(512, (3, 3), activation=activation,padding = 'same', kernel_initializer=initializer))\n",
    "model_vgg.add(layers.BatchNormalization())\n",
    "model_vgg.add(layers.MaxPooling2D((2, 2)))\n",
    "#End of Convolution\n",
    "model_vgg.add(layers.Flatten())\n",
    "#Dropout after first fully connected\n",
    "model_vgg.add(layers.Dropout(0.5))\n",
    "#Backend\n",
    "model_vgg.add(layers.Dense(1024, activation='relu'))\n",
    "model_vgg.add(layers.BatchNormalization())\n",
    "model_vgg.add(layers.Dense(7, activation = 'softmax'))\n",
    "#model_vgg.summary()"
   ]
  },
  {
   "cell_type": "code",
   "execution_count": 19,
   "metadata": {
    "id": "MzonXM90ulMH"
   },
   "outputs": [],
   "source": [
    "model_vgg.compile(optimizer=tf.keras.optimizers.SGD(learning_rate=0.1, momentum=0.9, decay = 0.0001),\n",
    "              loss=tf.keras.losses.SparseCategoricalCrossentropy(from_logits=True),\n",
    "              metrics=['accuracy'])"
   ]
  },
  {
   "cell_type": "code",
   "execution_count": 20,
   "metadata": {
    "colab": {
     "base_uri": "https://localhost:8080/"
    },
    "id": "w6N2u26mulMH",
    "outputId": "a569b329-e55a-40ff-f5fb-5582306406e5",
    "scrolled": true
   },
   "outputs": [
    {
     "name": "stdout",
     "output_type": "stream",
     "text": [
      "898/898 [==============================] - 27s 28ms/step - loss: 3.6545 - accuracy: 0.2158 - val_loss: 1.7951 - val_accuracy: 0.2625\n",
      "Epoch 2/14\n",
      "898/898 [==============================] - 24s 27ms/step - loss: 1.7689 - accuracy: 0.2744 - val_loss: 1.7290 - val_accuracy: 0.2868\n",
      "Epoch 3/14\n",
      "898/898 [==============================] - 24s 27ms/step - loss: 1.6753 - accuracy: 0.3370 - val_loss: 1.5910 - val_accuracy: 0.3653\n",
      "Epoch 4/14\n",
      "898/898 [==============================] - 25s 28ms/step - loss: 1.5452 - accuracy: 0.3903 - val_loss: 1.5757 - val_accuracy: 0.3735\n",
      "Epoch 5/14\n",
      "898/898 [==============================] - 25s 27ms/step - loss: 1.4233 - accuracy: 0.4436 - val_loss: 1.3760 - val_accuracy: 0.4663\n",
      "Epoch 6/14\n",
      "898/898 [==============================] - 24s 27ms/step - loss: 1.3311 - accuracy: 0.4842 - val_loss: 1.3012 - val_accuracy: 0.5035\n",
      "Epoch 7/14\n",
      "898/898 [==============================] - 25s 27ms/step - loss: 1.2500 - accuracy: 0.5221 - val_loss: 1.2861 - val_accuracy: 0.5026\n",
      "Epoch 8/14\n",
      "898/898 [==============================] - 25s 27ms/step - loss: 1.1875 - accuracy: 0.5488 - val_loss: 1.1916 - val_accuracy: 0.5511\n",
      "Epoch 9/14\n",
      "898/898 [==============================] - 24s 27ms/step - loss: 1.1311 - accuracy: 0.5749 - val_loss: 1.7105 - val_accuracy: 0.4133\n",
      "Epoch 10/14\n",
      "898/898 [==============================] - 24s 27ms/step - loss: 1.1203 - accuracy: 0.5756 - val_loss: 1.2095 - val_accuracy: 0.5403\n",
      "Epoch 11/14\n",
      "898/898 [==============================] - 24s 27ms/step - loss: 1.0657 - accuracy: 0.5988 - val_loss: 1.1053 - val_accuracy: 0.5823\n",
      "Epoch 12/14\n",
      "898/898 [==============================] - 24s 27ms/step - loss: 1.0149 - accuracy: 0.6157 - val_loss: 1.1084 - val_accuracy: 0.5814\n",
      "Epoch 13/14\n",
      "898/898 [==============================] - 24s 27ms/step - loss: 0.9604 - accuracy: 0.6381 - val_loss: 1.0755 - val_accuracy: 0.5999\n",
      "Epoch 14/14\n",
      "898/898 [==============================] - 24s 27ms/step - loss: 0.9349 - accuracy: 0.6529 - val_loss: 1.1525 - val_accuracy: 0.5705\n"
     ]
    }
   ],
   "source": [
    "history = model_vgg.fit(train_data, train_label, epochs=14, \n",
    "                    validation_data=(test_data, test_label))"
   ]
  },
  {
   "cell_type": "code",
   "execution_count": 23,
   "metadata": {
    "id": "JzJtwRdhulMI"
   },
   "outputs": [],
   "source": [
    "model_vgg.save('./SavedModels/model_vgg_fer2013_p48_dim1.h5')  # Save Model"
   ]
  },
  {
   "cell_type": "code",
   "execution_count": 5,
   "metadata": {},
   "outputs": [],
   "source": [
    "model_vgg = tf.keras.models.load_model('./SavedModels/model_vgg_fer2013_p48_dim1.h5')"
   ]
  },
  {
   "cell_type": "code",
   "execution_count": 21,
   "metadata": {
    "colab": {
     "base_uri": "https://localhost:8080/"
    },
    "id": "8IL49oqhBPDu",
    "outputId": "0ee3dea3-9be6-46bc-f484-26c031eda39b"
   },
   "outputs": [
    {
     "name": "stdout",
     "output_type": "stream",
     "text": [
      "Model: \"sequential_1\"\n",
      "_________________________________________________________________\n",
      "Layer (type)                 Output Shape              Param #   \n",
      "=================================================================\n",
      "random_flip_1 (RandomFlip)   (None, 48, 48, 1)         0         \n",
      "_________________________________________________________________\n",
      "random_crop_1 (RandomCrop)   (None, 48, 48, 1)         0         \n",
      "_________________________________________________________________\n",
      "conv2d_3 (Conv2D)            (None, 48, 48, 64)        640       \n",
      "_________________________________________________________________\n",
      "batch_normalization (BatchNo (None, 48, 48, 64)        256       \n",
      "_________________________________________________________________\n",
      "conv2d_4 (Conv2D)            (None, 48, 48, 64)        36928     \n",
      "_________________________________________________________________\n",
      "batch_normalization_1 (Batch (None, 48, 48, 64)        256       \n",
      "_________________________________________________________________\n",
      "max_pooling2d_3 (MaxPooling2 (None, 24, 24, 64)        0         \n",
      "_________________________________________________________________\n",
      "conv2d_5 (Conv2D)            (None, 24, 24, 128)       73856     \n",
      "_________________________________________________________________\n",
      "batch_normalization_2 (Batch (None, 24, 24, 128)       512       \n",
      "_________________________________________________________________\n",
      "conv2d_6 (Conv2D)            (None, 22, 22, 128)       147584    \n",
      "_________________________________________________________________\n",
      "batch_normalization_3 (Batch (None, 22, 22, 128)       512       \n",
      "_________________________________________________________________\n",
      "max_pooling2d_4 (MaxPooling2 (None, 11, 11, 128)       0         \n",
      "_________________________________________________________________\n",
      "conv2d_7 (Conv2D)            (None, 11, 11, 256)       295168    \n",
      "_________________________________________________________________\n",
      "batch_normalization_4 (Batch (None, 11, 11, 256)       1024      \n",
      "_________________________________________________________________\n",
      "conv2d_8 (Conv2D)            (None, 11, 11, 256)       590080    \n",
      "_________________________________________________________________\n",
      "batch_normalization_5 (Batch (None, 11, 11, 256)       1024      \n",
      "_________________________________________________________________\n",
      "max_pooling2d_5 (MaxPooling2 (None, 5, 5, 256)         0         \n",
      "_________________________________________________________________\n",
      "conv2d_9 (Conv2D)            (None, 5, 5, 512)         1180160   \n",
      "_________________________________________________________________\n",
      "batch_normalization_6 (Batch (None, 5, 5, 512)         2048      \n",
      "_________________________________________________________________\n",
      "conv2d_10 (Conv2D)           (None, 5, 5, 512)         2359808   \n",
      "_________________________________________________________________\n",
      "batch_normalization_7 (Batch (None, 5, 5, 512)         2048      \n",
      "_________________________________________________________________\n",
      "max_pooling2d_6 (MaxPooling2 (None, 2, 2, 512)         0         \n",
      "_________________________________________________________________\n",
      "flatten_1 (Flatten)          (None, 2048)              0         \n",
      "_________________________________________________________________\n",
      "dropout_3 (Dropout)          (None, 2048)              0         \n",
      "_________________________________________________________________\n",
      "dense_3 (Dense)              (None, 1024)              2098176   \n",
      "_________________________________________________________________\n",
      "batch_normalization_8 (Batch (None, 1024)              4096      \n",
      "_________________________________________________________________\n",
      "dense_4 (Dense)              (None, 7)                 7175      \n",
      "=================================================================\n",
      "Total params: 6,801,351\n",
      "Trainable params: 6,795,463\n",
      "Non-trainable params: 5,888\n",
      "_________________________________________________________________\n"
     ]
    }
   ],
   "source": [
    "model_vgg.summary()"
   ]
  },
  {
   "cell_type": "code",
   "execution_count": 18,
   "metadata": {
    "colab": {
     "base_uri": "https://localhost:8080/",
     "height": 458
    },
    "id": "7dzfuDwpBp4N",
    "outputId": "72ef1995-9c33-43a6-8cd9-94555f4a6d68"
   },
   "outputs": [
    {
     "data": {
      "image/png": "[encoded data removed]",
      "text/plain": [
       "<Figure size 720x504 with 2 Axes>"
      ]
     },
     "metadata": {
      "needs_background": "light"
     },
     "output_type": "display_data"
    }
   ],
   "source": [
    "printConfusionMatrix(model_vgg)"
   ]
  },
  {
   "cell_type": "code",
   "execution_count": null,
   "metadata": {},
   "outputs": [],
   "source": []
  }
 ],
 "metadata": {
  "accelerator": "GPU",
  "colab": {
   "collapsed_sections": [],
   "name": "Holzweber_11803108_FER_FER2013.ipynb",
   "provenance": [],
   "toc_visible": true
  },
  "kernelspec": {
   "display_name": "Python 3",
   "language": "python",
   "name": "python3"
  },
  "language_info": {
   "codemirror_mode": {
    "name": "ipython",
    "version": 3
   },
   "file_extension": ".py",
   "mimetype": "text/x-python",
   "name": "python",
   "nbconvert_exporter": "python",
   "pygments_lexer": "ipython3",
   "version": "3.8.3"
  }
 },
 "nbformat": 4,
 "nbformat_minor": 1
}
