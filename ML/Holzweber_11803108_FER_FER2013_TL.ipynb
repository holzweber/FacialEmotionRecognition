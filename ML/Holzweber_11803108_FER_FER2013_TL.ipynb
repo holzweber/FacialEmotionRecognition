{
 "cells": [
  {
   "cell_type": "markdown",
   "metadata": {
    "id": "2Fz4nScbBqib"
   },
   "source": [
    "# Facial Expression Recognition - Using FER2013 Database and Transfer Learning\n",
    "**Author**: Christopher Holzweber\n",
    "\n",
    "**Matr.-Nr.**: k11803108\n",
    "\n",
    "**Description**: Bachelorthesis - Prototype for FER\n"
   ]
  },
  {
   "cell_type": "code",
   "execution_count": null,
   "metadata": {
    "colab": {
     "base_uri": "https://localhost:8080/"
    },
    "id": "WxrBcGofAMWv",
    "outputId": "3980afbf-d89b-406a-c4b7-b59371251d52"
   },
   "outputs": [],
   "source": [
    "# %tensorflow_version 2.x  # making sure using version 2 of tensorflow\n",
    "import tensorflow as tf  # import tensorflow module\n",
    "import numpy as np # standard lib. for calculations\n",
    "import cv2  # library for imagehandling \n",
    "import matplotlib.pyplot as plt  # plotting images\n",
    "import os  # for file handling and loading\n",
    "import pandas as pd\n",
    "import random # for datashuffling\n",
    "from sklearn.metrics import confusion_matrix # for evaluationg the CNN Model\n",
    "import seaborn as sn # pi install seaborn - used for plotting confusion matrix"
   ]
  },
  {
   "cell_type": "markdown",
   "metadata": {
    "id": "xox5x2UMGJZd"
   },
   "source": [
    "# Dataset\n",
    "For this project the dataset FER2013 is used\n",
    "\n",
    "https://www.kaggle.com/msambare/fer2013\n",
    "\n",
    "The data is already seperated into a test and a train dataset.\n",
    "\n",
    "The Fer2013 classifies facial emotions into 7 Categories:\n",
    "\n",
    "(0=Angry, 1=Disgust, 2=Fear, 3=Happy, 4=Sad, 5=Surprise, 6=Neutral)"
   ]
  },
  {
   "cell_type": "markdown",
   "metadata": {
    "id": "iz9hpb_iIx0j"
   },
   "source": [
    "If using Google Colab, upload zip-File into content folder and unzip the train and test images"
   ]
  },
  {
   "cell_type": "markdown",
   "metadata": {
    "id": "sj9QSYEUdprx"
   },
   "source": [
    "**Example Image - Angry **"
   ]
  },
  {
   "cell_type": "code",
   "execution_count": null,
   "metadata": {
    "id": "Yv9Ujv_-hVEK"
   },
   "outputs": [],
   "source": [
    "# !unzip /content/FER2013 #unzip needed when importing data zip file in google colab"
   ]
  },
  {
   "cell_type": "code",
   "execution_count": null,
   "metadata": {
    "id": "7R8u7LqGGF-N"
   },
   "outputs": [],
   "source": [
    "img = cv2.imread(\"./FER2013/train/0/Training_3908.jpg\") # random angry image (index 0)"
   ]
  },
  {
   "cell_type": "code",
   "execution_count": null,
   "metadata": {
    "colab": {
     "base_uri": "https://localhost:8080/",
     "height": 284
    },
    "id": "gRkNci_WPZyc",
    "outputId": "80e73f76-a8bc-472c-fb2f-7085baf88944"
   },
   "outputs": [],
   "source": [
    "plt.imshow(img)  # show angry image"
   ]
  },
  {
   "cell_type": "markdown",
   "metadata": {
    "id": "f51JDh_HfKoo"
   },
   "source": [
    "*Define Classes and Data/Label Arrays*"
   ]
  },
  {
   "cell_type": "code",
   "execution_count": null,
   "metadata": {
    "id": "R23zggrGQO_l"
   },
   "outputs": [],
   "source": [
    "emotion_classes = ['angry', 'disgust', 'fear', 'happy', 'neutral', 'sad', 'surprise']\n",
    "train_data = [] # picture data for model training\n",
    "train_label = [] # labels of training data\n",
    "test_data = [] # picture data for model testing\n",
    "test_label = []  # labels of testing data\n",
    "IMG_SIZE = 100 #set pixel size of image \n",
    "imagetype = 1 # 0 for grayscale, 1 for rgb"
   ]
  },
  {
   "cell_type": "markdown",
   "metadata": {
    "id": "OKmgjyDunWYn"
   },
   "source": [
    "**Function: Read all  Images from subfolders and return data  + label tuples**"
   ]
  },
  {
   "cell_type": "code",
   "execution_count": null,
   "metadata": {
    "id": "Qh41xS6xfvZz"
   },
   "outputs": [],
   "source": [
    "def readData(direction,nrsubfolders):\n",
    "    dataframe = []\n",
    "    traindir = direction\n",
    "    for cs in range(0, nrsubfolders):\n",
    "        path = os.path.join(traindir,str(cs))  # Iterate over every subfolder\n",
    "        for img in os.listdir(path):\n",
    "            tempImg = cv2.imread(os.path.join(path,img),imagetype)  # load image 0 for greyscale\n",
    "            tempImg = cv2.resize(tempImg, (IMG_SIZE, IMG_SIZE))\n",
    "            dataframe.append([tempImg,cs])\n",
    "    return dataframe"
   ]
  },
  {
   "cell_type": "markdown",
   "metadata": {
    "id": "Oda1X5WrqzUA"
   },
   "source": [
    "**get all training and test images and shuffle them**"
   ]
  },
  {
   "cell_type": "code",
   "execution_count": null,
   "metadata": {
    "id": "r7Y4O92nqyyv"
   },
   "outputs": [],
   "source": [
    "tempdata = readData(\"./FER2013/train/\",len(emotion_classes)) # read training data\n",
    "random.shuffle(tempdata) #shuffle data\n",
    "#store data in according arrays\n",
    "for feat,label in tempdata:\n",
    "    train_data.append(feat)\n",
    "    train_label.append(label)\n",
    "tempdata = readData(\"./FER2013/test/\",len(emotion_classes)) # read testing data\n",
    "random.shuffle(tempdata) #shuffle data\n",
    "#store data in according arrays\n",
    "for feat,label in tempdata:\n",
    "    test_data.append(feat)\n",
    "    test_label.append(label)\n",
    "\n",
    "# create arrays out of lists\n",
    "train_data = np.array(train_data)\n",
    "train_label = np.array(train_label)\n",
    "test_data = np.array(test_data)\n",
    "test_label = np.array(test_label)\n",
    "\n"
   ]
  },
  {
   "cell_type": "code",
   "execution_count": null,
   "metadata": {
    "colab": {
     "base_uri": "https://localhost:8080/",
     "height": 299
    },
    "id": "AnlPQ8cfgHi2",
    "outputId": "4ba501fa-2435-4946-d675-939dbb0efbb7"
   },
   "outputs": [],
   "source": [
    "IMG_INDEX = 100\n",
    "plt.imshow(train_data[IMG_INDEX])\n",
    "plt.xlabel(train_label[IMG_INDEX])"
   ]
  },
  {
   "cell_type": "code",
   "execution_count": null,
   "metadata": {
    "colab": {
     "base_uri": "https://localhost:8080/"
    },
    "id": "MDtCfJ_CKOlb",
    "outputId": "bfb8240b-cb28-4314-db36-cd59170cf946"
   },
   "outputs": [],
   "source": [
    "train_data.shape"
   ]
  },
  {
   "cell_type": "code",
   "execution_count": null,
   "metadata": {
    "colab": {
     "base_uri": "https://localhost:8080/"
    },
    "id": "lakdnNvDKtkB",
    "outputId": "f6e3f926-4da6-49d3-f8ad-bd857edf9c8b"
   },
   "outputs": [],
   "source": [
    "train_label.shape"
   ]
  },
  {
   "cell_type": "code",
   "execution_count": null,
   "metadata": {
    "colab": {
     "base_uri": "https://localhost:8080/"
    },
    "id": "ztpulwKKM9qc",
    "outputId": "61973c86-ffcc-409c-c3d1-424c683d34a0"
   },
   "outputs": [],
   "source": [
    "test_data.shape"
   ]
  },
  {
   "cell_type": "code",
   "execution_count": null,
   "metadata": {
    "id": "rJPPDjpysX40"
   },
   "outputs": [],
   "source": [
    "# normalize datavalues for machinelearning - best practice that values are between [0, 1]\n",
    "train_data, test_data = train_data / 255.0, test_data / 255.0"
   ]
  },
  {
   "cell_type": "markdown",
   "metadata": {
    "id": "wOCz-9B9ocHi"
   },
   "source": [
    "# SetUp CNN Architecture"
   ]
  },
  {
   "cell_type": "code",
   "execution_count": null,
   "metadata": {
    "id": "cBppKrQkoqRd"
   },
   "outputs": [],
   "source": [
    "from tensorflow.keras import layers, models  # use models and layers given by tensorflow framework"
   ]
  },
  {
   "cell_type": "code",
   "execution_count": null,
   "metadata": {},
   "outputs": [],
   "source": [
    "# Model Skeleton reused form the Paper Facial Emotion Recognition Using Deep Convolutional Neural Network\n",
    "model2020 = models.Sequential()\n",
    "model2020.add(layers.Conv2D(64, (3,3), activation='relu', input_shape=(IMG_SIZE,IMG_SIZE, 3)))\n",
    "model2020.add(layers.MaxPooling2D((2, 2)))\n",
    "model2020.add(layers.Dropout(.01))\n",
    "model2020.add(layers.Conv2D(32, (3,3), activation='relu'))\n",
    "model2020.add(layers.MaxPooling2D((2, 2)))\n",
    "model2020.add(layers.Dropout(.01))\n",
    "model2020.add(layers.Conv2D(32, (3, 3), activation='relu'))\n",
    "model2020.add(layers.MaxPooling2D((2, 2)))\n",
    "model2020.add(layers.Dropout(.01))\n",
    "model2020.add(layers.Flatten())\n",
    "model2020.add(layers.Dense(256, activation='relu'))\n",
    "model2020.add(layers.Dense(7, activation = 'softmax'))\n",
    "model2020.summary()"
   ]
  },
  {
   "cell_type": "markdown",
   "metadata": {
    "id": "95yq8-dIqSk1"
   },
   "source": [
    "# *Training Area*"
   ]
  },
  {
   "cell_type": "code",
   "execution_count": null,
   "metadata": {},
   "outputs": [],
   "source": [
    "model2020.compile(optimizer='adam',\n",
    "              loss=tf.keras.losses.SparseCategoricalCrossentropy(from_logits=True),\n",
    "              metrics=['accuracy'])\n",
    "\n",
    "history = model2020.fit(train_data, train_label, epochs=15, \n",
    "                    validation_data=(test_data, test_label))"
   ]
  },
  {
   "cell_type": "code",
   "execution_count": null,
   "metadata": {},
   "outputs": [],
   "source": [
    "model2020.save('./SavedModels/model2020_fer2013_p100.h5')  # Save Model in Modeldirectory"
   ]
  },
  {
   "cell_type": "markdown",
   "metadata": {
    "id": "95yq8-dIqSk1"
   },
   "source": [
    "# *Testing and Validation Area*"
   ]
  },
  {
   "cell_type": "code",
   "execution_count": null,
   "metadata": {
    "id": "hBDiCtpesJJp"
   },
   "outputs": [],
   "source": [
    "acc = history.history['accuracy']"
   ]
  },
  {
   "cell_type": "code",
   "execution_count": null,
   "metadata": {
    "id": "a5nlGA4sk9wQ"
   },
   "outputs": [],
   "source": [
    "loaded_model = tf.keras.models.load_model(\"./SavedModels/model2020_fer2013_p100.h5\")"
   ]
  },
  {
   "cell_type": "code",
   "execution_count": null,
   "metadata": {
    "id": "ePhK8Z85opJn"
   },
   "outputs": [],
   "source": [
    "test_loss, test_acc = model.evaluate(test_data, test_label, verbose=2)"
   ]
  },
  {
   "cell_type": "markdown",
   "metadata": {
    "id": "xVI4W1RJ4hNg"
   },
   "source": [
    "Test with Happy Boy Image"
   ]
  },
  {
   "cell_type": "code",
   "execution_count": null,
   "metadata": {
    "id": "-7fjQKfA2StI"
   },
   "outputs": [],
   "source": [
    "# test with happy boy\n",
    "img = cv2.imread(\"./manualFaces/happyboy.png\")\n",
    "img = cv2.cvtColor(img, cv2.COLOR_BGR2GRAY)\n",
    "img =  cv2.resize(img, (48, 48))\n",
    "img = np.array(img)\n",
    "plt.imshow(img)\n",
    "img = img / 255.0\n",
    "temp = [] # reshape testdata, becuase predict function needs 4 dimensions\n",
    "temp.append(img)\n",
    "temp = np.array(temp)\n",
    "temp.shape\n",
    "predictions = loaded_model.predict(temp)\n",
    "emotion_classes[np.argmax(predictions)]"
   ]
  },
  {
   "cell_type": "code",
   "execution_count": null,
   "metadata": {},
   "outputs": [],
   "source": [
    "## Create Confusion Matrix of learn model"
   ]
  },
  {
   "cell_type": "code",
   "execution_count": null,
   "metadata": {},
   "outputs": [],
   "source": [
    "def getConfusionMatrix():\n",
    "    predicted = model2020.predict(test_data)\n",
    "    y_pred = []\n",
    "    for i in range(0, 7178):\n",
    "        y_pred.append(np.argmax(predicted[i,:]))\n",
    "    y_pred = np.array(y_pred)\n",
    "    return confusion_matrix(test_label, y_pred)"
   ]
  },
  {
   "cell_type": "code",
   "execution_count": null,
   "metadata": {},
   "outputs": [],
   "source": [
    "def printConfusionMatrix()\n",
    "    conmatrix = getConfusionMatrix()\n",
    "    df_cm = pd.DataFrame(conmatrix, index = [i for i in \"0123456\"],\n",
    "                  columns = [i for i in \"0123456\"])\n",
    "\n",
    "    plt.figure(figsize = (10,7))\n",
    "    sn.heatmap(df_cm, annot=True,fmt=\"d\")\n",
    "    plt.title('Confusion Matrix of CNN Model')\n",
    "    # Set x-axis label\n",
    "    plt.xlabel('Predicted')\n",
    "    # Set y-axis label\n",
    "    plt.ylabel('Actual')"
   ]
  },
  {
   "cell_type": "code",
   "execution_count": null,
   "metadata": {},
   "outputs": [],
   "source": [
    "printConfusionMatrix()"
   ]
  }
 ],
 "metadata": {
  "accelerator": "GPU",
  "colab": {
   "collapsed_sections": [],
   "name": "Holzweber_11803108_FER.ipynb",
   "provenance": [],
   "toc_visible": true
  },
  "kernelspec": {
   "display_name": "Python 3",
   "language": "python",
   "name": "python3"
  },
  "language_info": {
   "codemirror_mode": {
    "name": "ipython",
    "version": 3
   },
   "file_extension": ".py",
   "mimetype": "text/x-python",
   "name": "python",
   "nbconvert_exporter": "python",
   "pygments_lexer": "ipython3",
   "version": "3.8.3"
  }
 },
 "nbformat": 4,
 "nbformat_minor": 1
}
