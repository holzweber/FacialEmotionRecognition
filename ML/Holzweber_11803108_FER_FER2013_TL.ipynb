{
 "nbformat": 4,
 "nbformat_minor": 0,
 "metadata": {
  "accelerator": "GPU",
  "colab": {
   "name": "Holzweber_11803108_FER_FER2013_TL.ipynb",
   "provenance": [],
   "collapsed_sections": [],
   "toc_visible": true
  },
  "kernelspec": {
   "display_name": "Python 3",
   "language": "python",
   "name": "python3"
  },
  "language_info": {
   "codemirror_mode": {
    "name": "ipython",
    "version": 3
   },
   "file_extension": ".py",
   "mimetype": "text/x-python",
   "name": "python",
   "nbconvert_exporter": "python",
   "pygments_lexer": "ipython3",
   "version": "3.8.3"
  }
 },
 "cells": [
  {
   "cell_type": "markdown",
   "metadata": {
    "id": "2Fz4nScbBqib"
   },
   "source": [
    "# Facial Expression Recognition - Using FER2013 Database and Transfer Learning\n",
    "**Author**: Christopher Holzweber\n",
    "\n",
    "**Institution**: Johannes Kepler Universität Linz - Institute of Computational Perception\n",
    "\n",
    "**Intention**: Bachelorthesis - Prototype for FER\n",
    "\n",
    "**Description**: \n",
    "In this Notebook File a CNN Model is trained using the FER2013 Dataset and Transfer Learning\n",
    "\n",
    "\n",
    "\n",
    "**Required Installations**:\n",
    "\n",
    "Tensorflow: pip install tensorflow\n",
    "\n",
    "Numpy: pip install numpy\n",
    "\n",
    "OpenCV: pip install opencv-python\n",
    "\n",
    "Matplotlib: python -m pip install -U matplotlib\n",
    "\n",
    "Pandas: pip install pandas\n",
    "\n",
    "Seaborn: pip install seaborn\n",
    "\n",
    "Keras Applications: pip install keras_applications"
   ]
  },
  {
   "cell_type": "code",
   "metadata": {
    "id": "WxrBcGofAMWv"
   },
   "source": [
    "# %tensorflow_version 2.x  # making sure using version 2 of tensorflow\n",
    "import tensorflow as tf  # import tensorflow module\n",
    "import numpy as np # standard lib. for calculations\n",
    "import cv2  # library for imagehandling \n",
    "import matplotlib.pyplot as plt  # plotting images\n",
    "import os  # for file handling and loading\n",
    "import pandas as pd\n",
    "import random # for datashuffling\n",
    "from sklearn.metrics import confusion_matrix, plot_roc_curve # for evaluationg the CNN Models\n",
    "import seaborn as sn # pi install seaborn - used for plotting confusion matrix"
   ],
   "execution_count": 1,
   "outputs": []
  },
  {
   "cell_type": "markdown",
   "metadata": {
    "id": "xox5x2UMGJZd"
   },
   "source": [
    "# Dataset\n",
    "For this model the dataset FER2013 is used\n",
    "\n",
    "https://www.kaggle.com/msambare/fer2013\n",
    "\n",
    "The data is already seperated into a test and a train dataset.\n",
    "\n",
    "The FER2013 set classifies facial emotions into 7 Categories:\n",
    "\n",
    "(0=Angry, 1=Disgust, 2=Fear, 3=Happy, 4=Sad, 5=Surprise, 6=Neutral)"
   ]
  },
  {
   "cell_type": "code",
   "metadata": {
    "id": "lsbT1TXhvZyV"
   },
   "source": [
    "  # !unzip FER2013 # if training in google colab - upload zip file of FER2013 and unzip"
   ],
   "execution_count": 2,
   "outputs": []
  },
  {
   "cell_type": "markdown",
   "metadata": {
    "id": "f51JDh_HfKoo"
   },
   "source": [
    "**Define Classes and Data/Label Arrays**"
   ]
  },
  {
   "cell_type": "code",
   "metadata": {
    "id": "R23zggrGQO_l"
   },
   "source": [
    "emotion_classes = ['angry', 'disgust', 'fear', 'happy', 'neutral', 'sad', 'surprise']\n",
    "IMG_SIZE = 224 #set pixel size of image, images are used to be IMG_SIZExIMG_SIZE\n",
    "imagetype = 1 # 0 for grayscale, 1 for rgb\n",
    "train_data = [] # picture data for model training\n",
    "train_label = [] # labels of training data\n",
    "test_data = [] # picture data for model testing\n",
    "test_label = []  # labels of testing data"
   ],
   "execution_count": 3,
   "outputs": []
  },
  {
   "cell_type": "markdown",
   "metadata": {
    "id": "OKmgjyDunWYn"
   },
   "source": [
    "**Read all  Images from subfolders and return data  + label tuples**\n",
    "\n",
    "The readData Method reads all Files from a given directory, consisting of Labeled Subfoldes. e.g. FER2013/0/xyz.png"
   ]
  },
  {
   "cell_type": "code",
   "metadata": {
    "id": "Qh41xS6xfvZz"
   },
   "source": [
    "def readData(directory,nrsubfolders):\n",
    "    dataframe = []\n",
    "    traindir = directory\n",
    "    for cs in range(0, nrsubfolders):\n",
    "        path = os.path.join(traindir,str(cs))  # Iterate over every subfolder\n",
    "        for img in os.listdir(path):\n",
    "            tempImg = cv2.imread(os.path.join(path,img),imagetype) #readImg\n",
    "            tempImg = cv2.resize(tempImg, (IMG_SIZE, IMG_SIZE)) #resize to IMG_SIZE\n",
    "            dataframe.append([tempImg,cs]) #append tuple to dataframe\n",
    "    return dataframe"
   ],
   "execution_count": 4,
   "outputs": []
  },
  {
   "cell_type": "markdown",
   "metadata": {
    "id": "Oda1X5WrqzUA"
   },
   "source": [
    "**Load all training and test images - shuffle them and normalize them**"
   ]
  },
  {
   "cell_type": "code",
   "metadata": {
    "id": "r7Y4O92nqyyv"
   },
   "source": [
    "tempdata = readData(\"./FER2013/train/\",len(emotion_classes)) # read training data\n",
    "random.shuffle(tempdata) #shuffle data\n",
    "#store data in according arrays, seperating the created tuples \n",
    "for feat,label in tempdata:\n",
    "    train_data.append(feat)\n",
    "    train_label.append(label)\n",
    "tempdata = readData(\"./FER2013/test/\",len(emotion_classes)) # read testing data\n",
    "random.shuffle(tempdata) #shuffle data\n",
    "#store data in according arrays\n",
    "test_data = None\n",
    "test_data = []\n",
    "for feat,label in tempdata:\n",
    "    test_data.append(feat)\n",
    "    test_label.append(label)\n",
    "\n",
    "# create arrays out of lists\n",
    "train_data = np.array(train_data)\n",
    "train_label = np.array(train_label)\n",
    "test_data = np.array(test_data)\n",
    "test_label = np.array(test_label)\n"
   ],
   "execution_count": 5,
   "outputs": []
  },
  {
   "cell_type": "code",
   "metadata": {
    "id": "_3AC3tQAy1-0"
   },
   "source": [
    "data_augmentation = tf.keras.Sequential([\r\n",
    "  tf.keras.layers.experimental.preprocessing.RandomFlip('horizontal'),\r\n",
    "  tf.keras.layers.experimental.preprocessing.RandomCrop(IMG_SIZE,IMG_SIZE)\r\n",
    "])"
   ],
   "execution_count": 6,
   "outputs": []
  },
  {
   "cell_type": "code",
   "metadata": {
    "id": "emHc9Fe_yONo"
   },
   "source": [
    "preprocess_input = tf.keras.applications.resnet_v2.preprocess_input  #preprocess with renet_v2 preprocessor"
   ],
   "execution_count": 7,
   "outputs": []
  },
  {
   "cell_type": "code",
   "metadata": {
    "id": "O7qiwQtTx5Rp"
   },
   "source": [
    "# pip install keras_applications #needed to install, for using VGGFace pretrained model"
   ],
   "execution_count": 8,
   "outputs": []
  },
  {
   "cell_type": "code",
   "metadata": {
    "id": "DizN_8ziypzf"
   },
   "source": [
    "from tensorflow.keras import layers, models  # use models and layers given by tensorflow framework\r\n",
    "from keras_vggface.vggface import VGGFace #https://www.robots.ox.ac.uk/~vgg/data/vgg_face/"
   ],
   "execution_count": 9,
   "outputs": []
  },
  {
   "cell_type": "code",
   "metadata": {
    "id": "wApZtAmLxT5Y"
   },
   "source": [
    "# Create the base model from the pre-trained model MobileNet V2\r\n",
    "IMG_SHAPE = (IMG_SIZE,IMG_SIZE) + (3,)\r\n",
    "base_model = VGGFace(input_shape=IMG_SHAPE,\r\n",
    "                    include_top=False,\r\n",
    "                    weights='vggface')"
   ],
   "execution_count": 10,
   "outputs": []
  },
  {
   "cell_type": "code",
   "metadata": {
    "id": "su3s6-JixW1N"
   },
   "source": [
    "# Freeze Base Model before compilation and training\r\n",
    "base_model.trainable = False"
   ],
   "execution_count": 11,
   "outputs": []
  },
  {
   "cell_type": "code",
   "metadata": {
    "colab": {
     "base_uri": "https://localhost:8080/"
    },
    "id": "MARgoQ2E4wVk",
    "outputId": "2c2580bc-102b-4b69-f541-c30cd59da526"
   },
   "source": [
    "base_model.summary()"
   ],
   "execution_count": 12,
   "outputs": [
    {
     "output_type": "stream",
     "text": [
      "Model: \"vggface_vgg16\"\n",
      "_________________________________________________________________\n",
      "Layer (type)                 Output Shape              Param #   \n",
      "=================================================================\n",
      "input_1 (InputLayer)         [(None, 224, 224, 3)]     0         \n",
      "_________________________________________________________________\n",
      "conv1_1 (Conv2D)             (None, 224, 224, 64)      1792      \n",
      "_________________________________________________________________\n",
      "conv1_2 (Conv2D)             (None, 224, 224, 64)      36928     \n",
      "_________________________________________________________________\n",
      "pool1 (MaxPooling2D)         (None, 112, 112, 64)      0         \n",
      "_________________________________________________________________\n",
      "conv2_1 (Conv2D)             (None, 112, 112, 128)     73856     \n",
      "_________________________________________________________________\n",
      "conv2_2 (Conv2D)             (None, 112, 112, 128)     147584    \n",
      "_________________________________________________________________\n",
      "pool2 (MaxPooling2D)         (None, 56, 56, 128)       0         \n",
      "_________________________________________________________________\n",
      "conv3_1 (Conv2D)             (None, 56, 56, 256)       295168    \n",
      "_________________________________________________________________\n",
      "conv3_2 (Conv2D)             (None, 56, 56, 256)       590080    \n",
      "_________________________________________________________________\n",
      "conv3_3 (Conv2D)             (None, 56, 56, 256)       590080    \n",
      "_________________________________________________________________\n",
      "pool3 (MaxPooling2D)         (None, 28, 28, 256)       0         \n",
      "_________________________________________________________________\n",
      "conv4_1 (Conv2D)             (None, 28, 28, 512)       1180160   \n",
      "_________________________________________________________________\n",
      "conv4_2 (Conv2D)             (None, 28, 28, 512)       2359808   \n",
      "_________________________________________________________________\n",
      "conv4_3 (Conv2D)             (None, 28, 28, 512)       2359808   \n",
      "_________________________________________________________________\n",
      "pool4 (MaxPooling2D)         (None, 14, 14, 512)       0         \n",
      "_________________________________________________________________\n",
      "conv5_1 (Conv2D)             (None, 14, 14, 512)       2359808   \n",
      "_________________________________________________________________\n",
      "conv5_2 (Conv2D)             (None, 14, 14, 512)       2359808   \n",
      "_________________________________________________________________\n",
      "conv5_3 (Conv2D)             (None, 14, 14, 512)       2359808   \n",
      "_________________________________________________________________\n",
      "pool5 (MaxPooling2D)         (None, 7, 7, 512)         0         \n",
      "=================================================================\n",
      "Total params: 14,714,688\n",
      "Trainable params: 0\n",
      "Non-trainable params: 14,714,688\n",
      "_________________________________________________________________\n"
     ],
     "name": "stdout"
    }
   ]
  },
  {
   "cell_type": "markdown",
   "metadata": {
    "id": "KPtB54toCAD9"
   },
   "source": [
    "# Setup CNN Archtiecture with VGGFace pretrained model"
   ]
  },
  {
   "cell_type": "code",
   "metadata": {
    "id": "Z4dA4gSDy-3J"
   },
   "source": [
    "inputs = tf.keras.Input(shape=(IMG_SIZE, IMG_SIZE, 3))\r\n",
    "x = data_augmentation(inputs)\r\n",
    "x = preprocess_input(x) \r\n",
    "x = base_model(x, training=False)\r\n",
    "\r\n",
    "#Backend\r\n",
    "x = tf.keras.layers.Flatten()(x)\r\n",
    "x = tf.keras.layers.Dropout(0.5)(x)\r\n",
    "x = tf.keras.layers.Dense(1024, activation='relu')(x)\r\n",
    "x = tf.keras.layers.BatchNormalization()(x)\r\n",
    "outputs = tf.keras.layers.Dense(7, activation = 'softmax')(x)\r\n",
    "\r\n",
    "model = tf.keras.Model(inputs, outputs)"
   ],
   "execution_count": 13,
   "outputs": []
  },
  {
   "cell_type": "code",
   "metadata": {
    "id": "-te5MQZA1nQQ"
   },
   "source": [
    "model.compile(optimizer=tf.keras.optimizers.SGD(learning_rate=0.001, momentum=0.9, decay = 0.0001),\r\n",
    "              loss=tf.keras.losses.SparseCategoricalCrossentropy(from_logits=True),\r\n",
    "              metrics=['accuracy'])"
   ],
   "execution_count": 14,
   "outputs": []
  },
  {
   "cell_type": "code",
   "metadata": {
    "colab": {
     "base_uri": "https://localhost:8080/"
    },
    "id": "f9-OmSat22rU",
    "outputId": "4bcd8d56-dcb8-44bf-b2e7-13b3ad097d38"
   },
   "source": [
    "model.summary()"
   ],
   "execution_count": 15,
   "outputs": [
    {
     "output_type": "stream",
     "text": [
      "Model: \"model\"\n",
      "_________________________________________________________________\n",
      "Layer (type)                 Output Shape              Param #   \n",
      "=================================================================\n",
      "input_2 (InputLayer)         [(None, 224, 224, 3)]     0         \n",
      "_________________________________________________________________\n",
      "sequential (Sequential)      (None, 224, 224, 3)       0         \n",
      "_________________________________________________________________\n",
      "tf.math.truediv (TFOpLambda) (None, 224, 224, 3)       0         \n",
      "_________________________________________________________________\n",
      "tf.math.subtract (TFOpLambda (None, 224, 224, 3)       0         \n",
      "_________________________________________________________________\n",
      "vggface_vgg16 (Functional)   (None, 7, 7, 512)         14714688  \n",
      "_________________________________________________________________\n",
      "flatten (Flatten)            (None, 25088)             0         \n",
      "_________________________________________________________________\n",
      "dropout (Dropout)            (None, 25088)             0         \n",
      "_________________________________________________________________\n",
      "dense (Dense)                (None, 1024)              25691136  \n",
      "_________________________________________________________________\n",
      "batch_normalization (BatchNo (None, 1024)              4096      \n",
      "_________________________________________________________________\n",
      "dense_1 (Dense)              (None, 7)                 7175      \n",
      "=================================================================\n",
      "Total params: 40,417,095\n",
      "Trainable params: 25,700,359\n",
      "Non-trainable params: 14,716,736\n",
      "_________________________________________________________________\n"
     ],
     "name": "stdout"
    }
   ]
  },
  {
   "cell_type": "code",
   "metadata": {
    "colab": {
     "base_uri": "https://localhost:8080/"
    },
    "id": "GrH2_A-01qnd",
    "outputId": "2be2ba4e-9824-49c6-ff80-773a4c41dc31"
   },
   "source": [
    "history = model.fit(train_data, train_label,\r\n",
    "                    epochs=4,\r\n",
    "                    validation_data=(test_data, test_label))"
   ],
   "execution_count": 16,
   "outputs": [
    {
     "output_type": "stream",
     "text": [
      "Epoch 1/4\n",
      "898/898 [==============================] - 185s 164ms/step - loss: 1.5853 - accuracy: 0.4745 - val_loss: 1.0651 - val_accuracy: 0.6128\n",
      "Epoch 2/4\n",
      "898/898 [==============================] - 152s 169ms/step - loss: 1.0830 - accuracy: 0.6043 - val_loss: 1.0154 - val_accuracy: 0.6197\n",
      "Epoch 3/4\n",
      "898/898 [==============================] - 152s 170ms/step - loss: 0.9918 - accuracy: 0.6371 - val_loss: 0.9893 - val_accuracy: 0.6300\n",
      "Epoch 4/4\n",
      "898/898 [==============================] - 152s 169ms/step - loss: 0.9188 - accuracy: 0.6615 - val_loss: 0.9782 - val_accuracy: 0.6408\n"
     ],
     "name": "stdout"
    }
   ]
  },
  {
   "cell_type": "code",
   "metadata": {
    "id": "zv7fDrqXB7K7"
   },
   "source": [
    "model.save('model_vggface_fer2013_p224_dim3.h5')"
   ],
   "execution_count": 17,
   "outputs": []
  },
  {
   "cell_type": "markdown",
   "metadata": {
    "id": "dkUMp7tUulL-"
   },
   "source": [
    "# *Testing and Validation Area of Model2020*"
   ]
  },
  {
   "cell_type": "code",
   "metadata": {
    "id": "hBDiCtpesJJp"
   },
   "source": [
    "#acc = history.history['accuracy']"
   ],
   "execution_count": 18,
   "outputs": []
  },
  {
   "cell_type": "code",
   "metadata": {
    "id": "ePhK8Z85opJn"
   },
   "source": [
    "#test_loss, test_acc = model.evaluate(test_data, test_label, verbose=2)"
   ],
   "execution_count": 19,
   "outputs": []
  },
  {
   "cell_type": "markdown",
   "metadata": {
    "id": "VCURH6uSOo1b"
   },
   "source": [
    "## Create Confusion Matrix of trained model"
   ]
  },
  {
   "cell_type": "code",
   "metadata": {
    "id": "pT_yOQtgulMA"
   },
   "source": [
    "def getConfusionMatrix(model):\n",
    "    predicted = model.predict(test_data)\n",
    "    y_pred = []\n",
    "    for i in range(0, len(test_label)):\n",
    "        y_pred.append(np.argmax(predicted[i,:]))\n",
    "    y_pred = np.array(y_pred)\n",
    "    return confusion_matrix(test_label, y_pred)"
   ],
   "execution_count": 20,
   "outputs": []
  },
  {
   "cell_type": "code",
   "metadata": {
    "id": "_gSqmbejulMB"
   },
   "source": [
    "def printConfusionMatrix(model):\n",
    "    conmatrix = getConfusionMatrix(model)\n",
    "    df_cm = pd.DataFrame(conmatrix, index = [i for i in \"0123456\"],\n",
    "                  columns = [i for i in \"0123456\"])\n",
    "\n",
    "    plt.figure(figsize = (10,7))\n",
    "    sn.heatmap(df_cm, annot=True,fmt=\"d\")\n",
    "    plt.title('Confusion Matrix of CNN Model')\n",
    "    # Set x-axis label\n",
    "    plt.xlabel('Predicted')\n",
    "    # Set y-axis label\n",
    "    plt.ylabel('Actual')"
   ],
   "execution_count": 21,
   "outputs": []
  },
  {
   "cell_type": "code",
   "metadata": {
    "colab": {
     "base_uri": "https://localhost:8080/",
     "height": 458
    },
    "id": "lDJpSu-T7yAd",
    "outputId": "f7e9cd8f-cfd8-47a3-ca8e-09572e4d1a16"
   },
   "source": [
    "printConfusionMatrix(model)"
   ],
   "execution_count": 22,
   "outputs": [
    {
     "output_type": "display_data",
     "data": {
      "image/png": "[encoded data removed]",
      "text/plain": [
       "<Figure size 720x504 with 2 Axes>"
      ]
     },
     "metadata": {
      "tags": [],
      "needs_background": "light"
     }
    }
   ]
  }
 ]
}