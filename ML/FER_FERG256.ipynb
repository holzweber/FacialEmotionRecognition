{
 "cells": [
  {
   "cell_type": "markdown",
   "metadata": {
    "id": "2Fz4nScbBqib"
   },
   "source": [
    "# Facial Expression Recognition - Using FERG Database\n",
    "**Author**: Christopher Holzweber\n",
    "\n",
    "**Institution**: Johannes Kepler Universität Linz - Institute of Computational Perception\n",
    "\n",
    "**Intention**: Bachelorthesis - Prototype for FER\n",
    "\n",
    "**Description**: \n",
    "In this Notebook File a CNN Model is trained using the FERG Dataset. Here one strategy was used:\n",
    "\n",
    "# Training Model from Scratch with original Data\n",
    "\n",
    "This CNN Architekture is based on the paper\n",
    "\n",
    "Facial Emotion Recognition Using Deep Convolutional Neural Network by \n",
    "\n",
    "Pranav E.\n",
    "School of Engineering\n",
    "Cochin University of Science\n",
    "and Technology\n",
    "Kochi, India\n",
    "\n",
    "Suraj Kamal\n",
    "Department of Electronics\n",
    "Cochin University of Science and\n",
    "Technology\n",
    "Kochi, India\n",
    "\n",
    "Satheesh Chandran C.\n",
    "Department of Electronics\n",
    "Cochin University of Science and\n",
    "Technology\n",
    "Kochi, India\n",
    "\n",
    "Supriya M.H.\n",
    "Department of Electronics\n",
    "Cochin University of Science\n",
    "and Technology\n",
    "Kochi, India\n",
    "\n",
    "Latest Results: loss: 1.1655 - accuracy: 1.0000 - val_loss: 1.1654 - val_accuracy: 1.0000\n"
   ]
  },
  {
   "cell_type": "code",
   "execution_count": 1,
   "metadata": {
    "colab": {
     "base_uri": "https://localhost:8080/"
    },
    "id": "WxrBcGofAMWv",
    "outputId": "3980afbf-d89b-406a-c4b7-b59371251d52"
   },
   "outputs": [],
   "source": [
    "# %tensorflow_version 2.x  # making sure using version 2 of tensorflow\n",
    "import tensorflow as tf  # import tensorflow module\n",
    "import numpy as np # standard lib. for calculations\n",
    "import cv2  # library for imagehandling \n",
    "import matplotlib.pyplot as plt  # plotting images\n",
    "import os  # for file handling and loading\n",
    "import pandas as pd\n",
    "import random # for datashuffling\n",
    "from sklearn.metrics import confusion_matrix # for evaluationg the CNN Model\n",
    "from sklearn.model_selection import train_test_split\n",
    "import seaborn as sn # pi install seaborn - used for plotting confusion matrix"
   ]
  },
  {
   "cell_type": "markdown",
   "metadata": {
    "id": "xox5x2UMGJZd"
   },
   "source": [
    "# Dataset\n",
    "For this project the dataset FERG is used\n",
    "\n",
    "http://grail.cs.washington.edu/projects/deepexpr/ferg-2d-db.html\n",
    "\n",
    "The data needs to be seperated manually into a training and testing set (75:25)\n",
    "\n",
    "The FERG classifies facial emotions into 7 Categories:\n",
    "\n",
    "(0=Angry, 1=Disgust, 2=Fear, 3=Happy, 4=Sad, 5=Surprise, 6=Neutral)"
   ]
  },
  {
   "cell_type": "markdown",
   "metadata": {
    "id": "f51JDh_HfKoo"
   },
   "source": [
    "**Define Classes and Data/Label Arrays**"
   ]
  },
  {
   "cell_type": "code",
   "execution_count": 11,
   "metadata": {
    "id": "R23zggrGQO_l"
   },
   "outputs": [],
   "source": [
    "emotion_classes = ['angry', 'disgust', 'fear', 'happy', 'neutral', 'sad', 'surprise']\n",
    "train_data = [] # picture data for model training\n",
    "train_label = [] # labels of training data\n",
    "test_data = [] # picture data for model testing\n",
    "test_label = []  # labels of testing data"
   ]
  },
  {
   "cell_type": "code",
   "execution_count": 20,
   "metadata": {},
   "outputs": [],
   "source": [
    "IMG_SIZE = 100\n",
    "dim = 3"
   ]
  },
  {
   "cell_type": "markdown",
   "metadata": {
    "id": "OKmgjyDunWYn"
   },
   "source": [
    "**Read all  Images from subfolders and return (data , label) tuples from the dataset**"
   ]
  },
  {
   "cell_type": "code",
   "execution_count": 3,
   "metadata": {
    "id": "Qh41xS6xfvZz"
   },
   "outputs": [],
   "source": [
    "def readData(direction,nrsubfolders):\n",
    "    dataframe = []\n",
    "    traindir = direction\n",
    "    for outer in os.listdir(traindir):\n",
    "        path = os.path.join(traindir,str(outer+'/'))  # Iterate over every subfolder\n",
    "        for cs in range(0, nrsubfolders):\n",
    "            path2 = os.path.join(path,str(cs)+str('/'))  # Iterate over every subfolder\n",
    "            for img in os.listdir(path2):\n",
    "                imgpath = os.path.join(path2,img)\n",
    "                tempImg = cv2.imread(imgpath,1)  # load image 0 for greyscale\n",
    "                tempImg = cv2.resize(tempImg, (100, 100))\n",
    "                dataframe.append([tempImg,cs])\n",
    "    return dataframe"
   ]
  },
  {
   "cell_type": "markdown",
   "metadata": {
    "id": "Oda1X5WrqzUA"
   },
   "source": [
    "**Get all training and test images and shuffle them**"
   ]
  },
  {
   "cell_type": "code",
   "execution_count": 12,
   "metadata": {
    "id": "r7Y4O92nqyyv"
   },
   "outputs": [],
   "source": [
    "tempdata = readData(\"./FERG_DB_256/data/\",7) # read training data\n",
    "random.shuffle(tempdata) #shuffle data\n",
    "#store data in according arrays\n",
    "for feat,label in tempdata:\n",
    "    train_data.append(feat)\n",
    "    train_label.append(label)\n",
    "\n",
    "# create arrays out of lists\n",
    "train_data = np.array(train_data)\n",
    "train_label = np.array(train_label)\n",
    "\n"
   ]
  },
  {
   "cell_type": "code",
   "execution_count": 13,
   "metadata": {},
   "outputs": [
    {
     "data": {
      "text/plain": [
       "(55766, 100, 100, 3)"
      ]
     },
     "execution_count": 13,
     "metadata": {},
     "output_type": "execute_result"
    }
   ],
   "source": [
    "train_data.shape"
   ]
  },
  {
   "cell_type": "markdown",
   "metadata": {},
   "source": [
    "**Seperate the loaded Dataset into a Testing and Traingset**"
   ]
  },
  {
   "cell_type": "code",
   "execution_count": 14,
   "metadata": {
    "colab": {
     "base_uri": "https://localhost:8080/"
    },
    "id": "ztpulwKKM9qc",
    "outputId": "61973c86-ffcc-409c-c3d1-424c683d34a0"
   },
   "outputs": [],
   "source": [
    "train_data, test_data, train_label, test_label = train_test_split(train_data, train_label)"
   ]
  },
  {
   "cell_type": "code",
   "execution_count": 15,
   "metadata": {},
   "outputs": [
    {
     "data": {
      "text/plain": [
       "(41824, 100, 100, 3)"
      ]
     },
     "execution_count": 15,
     "metadata": {},
     "output_type": "execute_result"
    }
   ],
   "source": [
    "train_data.shape"
   ]
  },
  {
   "cell_type": "code",
   "execution_count": 16,
   "metadata": {
    "id": "rJPPDjpysX40"
   },
   "outputs": [],
   "source": [
    "# normalize datavalues for machinelearning - best practice that values are between [0, 1]\n",
    "train_data, test_data = train_data / 255.0, test_data / 255.0"
   ]
  },
  {
   "cell_type": "code",
   "execution_count": 17,
   "metadata": {},
   "outputs": [
    {
     "data": {
      "text/plain": [
       "(41824, 100, 100, 3)"
      ]
     },
     "execution_count": 17,
     "metadata": {},
     "output_type": "execute_result"
    }
   ],
   "source": [
    "train_data.shape"
   ]
  },
  {
   "cell_type": "code",
   "execution_count": 18,
   "metadata": {},
   "outputs": [
    {
     "data": {
      "text/plain": [
       "(13942, 100, 100, 3)"
      ]
     },
     "execution_count": 18,
     "metadata": {},
     "output_type": "execute_result"
    }
   ],
   "source": [
    "test_data.shape"
   ]
  },
  {
   "cell_type": "markdown",
   "metadata": {
    "id": "wOCz-9B9ocHi"
   },
   "source": [
    "# SetUp CNN Architecture"
   ]
  },
  {
   "cell_type": "code",
   "execution_count": 19,
   "metadata": {
    "id": "cBppKrQkoqRd"
   },
   "outputs": [],
   "source": [
    "from tensorflow.keras import layers, models  # use models and layers given by tensorflow framework"
   ]
  },
  {
   "cell_type": "code",
   "execution_count": 26,
   "metadata": {},
   "outputs": [
    {
     "name": "stdout",
     "output_type": "stream",
     "text": [
      "Model: \"sequential_3\"\n",
      "_________________________________________________________________\n",
      "Layer (type)                 Output Shape              Param #   \n",
      "=================================================================\n",
      "conv2d_6 (Conv2D)            (None, 98, 98, 32)        896       \n",
      "_________________________________________________________________\n",
      "max_pooling2d_6 (MaxPooling2 (None, 49, 49, 32)        0         \n",
      "_________________________________________________________________\n",
      "dropout_2 (Dropout)          (None, 49, 49, 32)        0         \n",
      "_________________________________________________________________\n",
      "conv2d_7 (Conv2D)            (None, 47, 47, 64)        18496     \n",
      "_________________________________________________________________\n",
      "max_pooling2d_7 (MaxPooling2 (None, 23, 23, 64)        0         \n",
      "_________________________________________________________________\n",
      "dropout_3 (Dropout)          (None, 23, 23, 64)        0         \n",
      "_________________________________________________________________\n",
      "conv2d_8 (Conv2D)            (None, 21, 21, 128)       73856     \n",
      "_________________________________________________________________\n",
      "max_pooling2d_8 (MaxPooling2 (None, 10, 10, 128)       0         \n",
      "_________________________________________________________________\n",
      "dropout_4 (Dropout)          (None, 10, 10, 128)       0         \n",
      "_________________________________________________________________\n",
      "flatten_2 (Flatten)          (None, 12800)             0         \n",
      "_________________________________________________________________\n",
      "dense_6 (Dense)              (None, 256)               3277056   \n",
      "_________________________________________________________________\n",
      "dense_7 (Dense)              (None, 7)                 1799      \n",
      "=================================================================\n",
      "Total params: 3,372,103\n",
      "Trainable params: 3,372,103\n",
      "Non-trainable params: 0\n",
      "_________________________________________________________________\n"
     ]
    }
   ],
   "source": [
    "# Model Skeleton reused form the Paper Facial Emotion Recognition Using Deep Convolutional Neural Network\n",
    "model_ferg = models.Sequential()\n",
    "model_ferg.add(layers.Conv2D(32, (3,3), activation='relu', input_shape=(100,100, 3)))\n",
    "model_ferg.add(layers.MaxPooling2D((2, 2)))\n",
    "model_ferg.add(layers.Dropout(.5))\n",
    "model_ferg.add(layers.Conv2D(64, (3,3), activation='relu'))\n",
    "model_ferg.add(layers.MaxPooling2D((2, 2)))\n",
    "model_ferg.add(layers.Dropout(.5))\n",
    "model_ferg.add(layers.Conv2D(128, (3, 3), activation='relu'))\n",
    "model_ferg.add(layers.MaxPooling2D((2, 2)))\n",
    "model_ferg.add(layers.Dropout(.5))\n",
    "model_ferg.add(layers.Flatten())\n",
    "model_ferg.add(layers.Dense(256, activation='relu'))\n",
    "model_ferg.add(layers.Dense(7, activation = 'softmax'))\n",
    "model_ferg.summary()"
   ]
  },
  {
   "cell_type": "markdown",
   "metadata": {
    "id": "95yq8-dIqSk1"
   },
   "source": [
    "# *Training Area*"
   ]
  },
  {
   "cell_type": "code",
   "execution_count": 27,
   "metadata": {
    "scrolled": true
   },
   "outputs": [
    {
     "name": "stdout",
     "output_type": "stream",
     "text": [
      "Epoch 1/7\n",
      "1307/1307 [==============================] - 287s 219ms/step - loss: 1.3068 - accuracy: 0.8591 - val_loss: 1.1816 - val_accuracy: 0.9833\n",
      "Epoch 2/7\n",
      "1307/1307 [==============================] - 281s 215ms/step - loss: 1.1907 - accuracy: 0.9746 - val_loss: 1.1829 - val_accuracy: 0.9821\n",
      "Epoch 3/7\n",
      "1307/1307 [==============================] - 275s 210ms/step - loss: 1.1910 - accuracy: 0.9742 - val_loss: 1.1838 - val_accuracy: 0.9813\n",
      "Epoch 4/7\n",
      "1307/1307 [==============================] - 275s 210ms/step - loss: 1.1884 - accuracy: 0.9769 - val_loss: 1.1817 - val_accuracy: 0.9835\n",
      "Epoch 5/7\n",
      "1307/1307 [==============================] - 272s 208ms/step - loss: 1.1894 - accuracy: 0.9757 - val_loss: 1.1829 - val_accuracy: 0.9824\n",
      "Epoch 6/7\n",
      "1307/1307 [==============================] - 273s 209ms/step - loss: 1.1909 - accuracy: 0.9743 - val_loss: 1.1843 - val_accuracy: 0.9810\n",
      "Epoch 7/7\n",
      "1307/1307 [==============================] - 267s 205ms/step - loss: 1.1894 - accuracy: 0.9759 - val_loss: 1.1819 - val_accuracy: 0.9834\n"
     ]
    }
   ],
   "source": [
    "model_ferg.compile(optimizer='adam',\n",
    "              loss=tf.keras.losses.SparseCategoricalCrossentropy(from_logits=True),\n",
    "              metrics=['accuracy'])\n",
    "\n",
    "history = model_ferg.fit(train_data, train_label, epochs=7, \n",
    "                    validation_data=(test_data, test_label))"
   ]
  },
  {
   "cell_type": "code",
   "execution_count": 44,
   "metadata": {},
   "outputs": [],
   "source": [
    "model_ferg.save('./SavedModels/model_ferg256_p100_dim3.h5')"
   ]
  },
  {
   "cell_type": "markdown",
   "metadata": {
    "id": "95yq8-dIqSk1"
   },
   "source": [
    "# *Testing and Validation Area*"
   ]
  },
  {
   "cell_type": "code",
   "execution_count": 43,
   "metadata": {
    "id": "hBDiCtpesJJp"
   },
   "outputs": [
    {
     "data": {
      "image/png": "[encoded data removed]",
      "text/plain": [
       "<Figure size 432x288 with 1 Axes>"
      ]
     },
     "metadata": {
      "needs_background": "light"
     },
     "output_type": "display_data"
    }
   ],
   "source": [
    "loss = history.history['accuracy']\n",
    "val_loss = history.history['val_accuracy']\n",
    "epochs = range(1, len(loss) + 1)\n",
    "plt.plot(epochs, loss,'y',label='Training loss')\n",
    "plt.plot(epochs, val_loss, 'r', label='Validation loss')\n",
    "plt.xlabel('Epochs')\n",
    "plt.ylabel('Loss')\n",
    "plt.legend()\n",
    "plt.show()"
   ]
  },
  {
   "cell_type": "code",
   "execution_count": null,
   "metadata": {
    "id": "a5nlGA4sk9wQ"
   },
   "outputs": [],
   "source": [
    "# model_ferg = tf.keras.models.load_model(\"./SavedModels/model_ferg256_p100_dim3.h5\")"
   ]
  },
  {
   "cell_type": "code",
   "execution_count": null,
   "metadata": {
    "id": "ePhK8Z85opJn"
   },
   "outputs": [],
   "source": [
    "test_loss, test_acc = model2020.evaluate(test_data, test_label, verbose=2)"
   ]
  },
  {
   "cell_type": "code",
   "execution_count": null,
   "metadata": {
    "id": "cJE0OY1ZyCap"
   },
   "outputs": [],
   "source": [
    "temp = [] # reshape testdata, becuase predict function needs 4 dimensions\n",
    "temp.append(test_data[4500])\n",
    "temp = np.array(temp)\n",
    "temp.shape\n",
    "plt.imshow(test_data[4500])"
   ]
  },
  {
   "cell_type": "code",
   "execution_count": null,
   "metadata": {},
   "outputs": [],
   "source": [
    "## Create Confusion Matrix of learn model"
   ]
  },
  {
   "cell_type": "code",
   "execution_count": 32,
   "metadata": {},
   "outputs": [],
   "source": [
    "def getConfusionMatrix(model):\n",
    "    predicted = model.predict(test_data) #prediction vektor of the loaded test_data\n",
    "    y_pred = []\n",
    "    y_true = []\n",
    "    for i in range(0, len(test_label)):\n",
    "        y_true.append(emotion_classes[test_label[i]]) #create a vektor with emotion_labels\n",
    "        y_pred.append(emotion_classes[np.argmax(predicted[i,:])])\n",
    "    y_pred = np.array(y_pred) # cast both vektors to np. arrays as needed by the confusion_matrix function\n",
    "    y_true = np.array(y_true)\n",
    "    return confusion_matrix(y_true, y_pred, labels = emotion_classes, normalize=None)"
   ]
  },
  {
   "cell_type": "code",
   "execution_count": 38,
   "metadata": {},
   "outputs": [],
   "source": [
    "def printConfusionMatrix(model):\n",
    "    conmatrix = getConfusionMatrix(model)\n",
    "    df_cm = pd.DataFrame(conmatrix, index = [i for i in emotion_classes],\n",
    "                  columns = [i for i in emotion_classes])\n",
    "\n",
    "    plt.figure(figsize = (10,7))\n",
    "    sn.heatmap(df_cm, annot=True, cmap=\"YlGnBu\",fmt='d')\n",
    "    plt.title('Confusion Matrix of CNN Model')\n",
    "    # Set x-axis label\n",
    "    plt.xlabel('Predicted')\n",
    "    # Set y-axis label\n",
    "    plt.ylabel('Actual')"
   ]
  },
  {
   "cell_type": "code",
   "execution_count": 39,
   "metadata": {},
   "outputs": [
    {
     "data": {
      "image/png": "[encoded data removed]",
      "text/plain": [
       "<Figure size 720x504 with 2 Axes>"
      ]
     },
     "metadata": {
      "needs_background": "light"
     },
     "output_type": "display_data"
    }
   ],
   "source": [
    "printConfusionMatrix(model_ferg)"
   ]
  },
  {
   "cell_type": "markdown",
   "metadata": {},
   "source": [
    "# Test FERG256 Model on FER2013 trainingdataset"
   ]
  },
  {
   "cell_type": "code",
   "execution_count": 40,
   "metadata": {},
   "outputs": [],
   "source": [
    "def readFER2013Data(direction,nrsubfolders):\n",
    "    dataframe = []\n",
    "    traindir = direction\n",
    "    for cs in range(0, nrsubfolders+1):\n",
    "        path = os.path.join(traindir,str(cs))  # Iterate over every subfolder\n",
    "        for img in os.listdir(path):\n",
    "            tempImg = cv2.imread(os.path.join(path,img),1)  # load image 0 for greyscale\n",
    "            tempImg = cv2.resize(tempImg, (100, 100))\n",
    "            dataframe.append([tempImg,cs])\n",
    "    return dataframe"
   ]
  },
  {
   "cell_type": "code",
   "execution_count": 41,
   "metadata": {},
   "outputs": [],
   "source": [
    "fer2013_data = []\n",
    "fer2013_label = []\n",
    "tempdata = readFER2013Data(\"./FER2013/train/\",6) # read training data\n",
    "random.shuffle(tempdata) #shuffle data\n",
    "#store data in according arrays\n",
    "for feat,label in tempdata:\n",
    "    fer2013_data.append(feat)\n",
    "    fer2013_label.append(label)\n",
    "# create arrays out of lists\n",
    "fer2013_data = np.array(fer2013_data)\n",
    "test_label = np.array(fer2013_label)\n",
    "test_data = fer2013_data / 255.0"
   ]
  },
  {
   "cell_type": "code",
   "execution_count": 42,
   "metadata": {},
   "outputs": [
    {
     "data": {
      "image/png": "[encoded data removed]",
      "text/plain": [
       "<Figure size 720x504 with 2 Axes>"
      ]
     },
     "metadata": {
      "needs_background": "light"
     },
     "output_type": "display_data"
    }
   ],
   "source": [
    "printConfusionMatrix(model_ferg)"
   ]
  },
  {
   "cell_type": "code",
   "execution_count": null,
   "metadata": {},
   "outputs": [],
   "source": []
  }
 ],
 "metadata": {
  "accelerator": "GPU",
  "colab": {
   "collapsed_sections": [],
   "name": "Holzweber_11803108_FER.ipynb",
   "provenance": [],
   "toc_visible": true
  },
  "kernelspec": {
   "display_name": "Python 3",
   "language": "python",
   "name": "python3"
  },
  "language_info": {
   "codemirror_mode": {
    "name": "ipython",
    "version": 3
   },
   "file_extension": ".py",
   "mimetype": "text/x-python",
   "name": "python",
   "nbconvert_exporter": "python",
   "pygments_lexer": "ipython3",
   "version": "3.8.3"
  }
 },
 "nbformat": 4,
 "nbformat_minor": 1
}
